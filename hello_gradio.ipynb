{
 "cells": [
  {
   "cell_type": "markdown",
   "id": "52e6d8c7-5040-4247-bbc8-175f9d714c18",
   "metadata": {},
   "source": [
    "# Hello gradio"
   ]
  },
  {
   "cell_type": "code",
   "execution_count": 12,
   "id": "725078dd-87d1-4307-98ab-00edc56d6641",
   "metadata": {},
   "outputs": [],
   "source": [
    "#!pip install gradio -qqq\n",
    "#!pip install ollama\n",
    "#!pip install opeanai"
   ]
  },
  {
   "cell_type": "markdown",
   "id": "724c9c27-1e2c-4cc2-9721-5b46fc05278b",
   "metadata": {},
   "source": [
    "## reload"
   ]
  },
  {
   "cell_type": "code",
   "execution_count": 14,
   "id": "d4936ceb-184a-4aca-bd89-c9a6646979c2",
   "metadata": {},
   "outputs": [],
   "source": [
    "import gradio as gr\n",
    "import ollama"
   ]
  },
  {
   "cell_type": "code",
   "execution_count": 20,
   "id": "e77f46c9-481e-4043-a1ac-53ec69b145f8",
   "metadata": {},
   "outputs": [],
   "source": [
    "OLLAMA_MODEL = \"jobautomation/OpenEuroLLM-Romanian:latest\""
   ]
  },
  {
   "cell_type": "code",
   "execution_count": 21,
   "id": "5ddb0ade-5f81-45e9-8927-e228864e65f5",
   "metadata": {
    "scrolled": true
   },
   "outputs": [],
   "source": [
    " def chat_with_ollama(message, history):\n",
    "    messages = []\n",
    "\n",
    "    # Add previous conversation history\n",
    "    for human, assistant in history:\n",
    "        messages.append({\"role\": \"user\", \"content\": human})\n",
    "        messages.append({\"role\": \"assistant\", \"content\": assistant})\n",
    "\n",
    "    # Add the current user message\n",
    "    messages.append({\"role\": \"user\", \"content\": message})\n",
    "\n",
    "    try:\n",
    "        response = ollama.chat(model=OLLAMA_MODEL, messages=messages, stream=True)\n",
    "        \n",
    "        # Stream the response\n",
    "        full_response = \"\"\n",
    "        for chunk in response:\n",
    "            if 'message' in chunk and 'content' in chunk['message']:\n",
    "                content = chunk['message']['content']\n",
    "                full_response += content\n",
    "                yield full_response # Yield the accumulating response for streaming\n",
    "                \n",
    "    except Exception as e:\n",
    "        return f\"Error: {e}\""
   ]
  },
  {
   "cell_type": "code",
   "execution_count": 30,
   "id": "af5f95ed-d757-4052-8656-fd82aaa61fb8",
   "metadata": {
    "scrolled": true
   },
   "outputs": [
    {
     "name": "stderr",
     "output_type": "stream",
     "text": [
      "/tmp/ipykernel_17736/173987419.py:4: UserWarning: You have not specified a value for the `type` parameter. Defaulting to the 'tuples' format for chatbot messages, but this is deprecated and will be removed in a future version of Gradio. Please set type='messages' instead, which uses openai-style dictionaries with 'role' and 'content' keys.\n",
      "  chatbot=gr.Chatbot(\n"
     ]
    }
   ],
   "source": [
    "iface = gr.ChatInterface(\n",
    "    fn=chat_with_ollama,\n",
    "    \n",
    "    chatbot=gr.Chatbot(\n",
    "        show_copy_button=True,\n",
    "        resizable=True,\n",
    "    ),\n",
    "    title=\"Ollama Chat\",\n",
    "    \n",
    "    examples=[\"Câte degete sunt la o mână?\"],\n",
    ")"
   ]
  },
  {
   "cell_type": "code",
   "execution_count": 31,
   "id": "7c8a5d6b-a582-4e27-927d-c0b5d670cb26",
   "metadata": {
    "scrolled": true
   },
   "outputs": [
    {
     "name": "stdout",
     "output_type": "stream",
     "text": [
      "* Running on local URL:  http://127.0.0.1:7866\n",
      "* To create a public link, set `share=True` in `launch()`.\n"
     ]
    },
    {
     "data": {
      "text/html": [
       "<div><iframe src=\"http://127.0.0.1:7866/\" width=\"100%\" height=\"500\" allow=\"autoplay; camera; microphone; clipboard-read; clipboard-write;\" frameborder=\"0\" allowfullscreen></iframe></div>"
      ],
      "text/plain": [
       "<IPython.core.display.HTML object>"
      ]
     },
     "metadata": {},
     "output_type": "display_data"
    },
    {
     "data": {
      "text/plain": []
     },
     "execution_count": 31,
     "metadata": {},
     "output_type": "execute_result"
    }
   ],
   "source": [
    "iface.launch()"
   ]
  }
 ],
 "metadata": {
  "kernelspec": {
   "display_name": "Python 3 (ipykernel)",
   "language": "python",
   "name": "python3"
  },
  "language_info": {
   "codemirror_mode": {
    "name": "ipython",
    "version": 3
   },
   "file_extension": ".py",
   "mimetype": "text/x-python",
   "name": "python",
   "nbconvert_exporter": "python",
   "pygments_lexer": "ipython3",
   "version": "3.10.16"
  }
 },
 "nbformat": 4,
 "nbformat_minor": 5
}
