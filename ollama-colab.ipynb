{
  "cells": [
    {
      "cell_type": "markdown",
      "id": "99ee88f7-7084-4e5d-a94c-a0cf462afbea",
      "metadata": {
        "id": "99ee88f7-7084-4e5d-a94c-a0cf462afbea"
      },
      "source": [
        "# ollama on collab\n",
        "\n",
        "[2 Ways to Run DeepSeek R1 on Google Colab Free Tier with Ollama ](https://dev.to/0xkoji/2-ways-to-run-ollama-on-google-colab-free-tier-3i4) method 1"
      ]
    },
    {
      "cell_type": "markdown",
      "source": [
        "## install ollama"
      ],
      "metadata": {
        "id": "C-0_V-QOsYhe"
      },
      "id": "C-0_V-QOsYhe"
    },
    {
      "cell_type": "code",
      "source": [
        "!echo 'debconf debconf/frontend select Noninteractive' | sudo debconf-set-selections\n",
        "!sudo apt-get update && sudo apt-get install -y cuda-drivers\n",
        "\n",
        "import os\n",
        "\n",
        "# Set LD_LIBRARY_PATH so the system NVIDIA library\n",
        "os.environ.update({'LD_LIBRARY_PATH': '/usr/lib64-nvidia'})"
      ],
      "metadata": {
        "collapsed": true,
        "id": "6SAfjRs-u4mk",
        "outputId": "6d2a4942-6a59-4bb5-e087-281dd181865a",
        "colab": {
          "base_uri": "https://localhost:8080/"
        }
      },
      "id": "6SAfjRs-u4mk",
      "execution_count": 1,
      "outputs": [
        {
          "output_type": "stream",
          "name": "stdout",
          "text": [
            "  % Total    % Received % Xferd  Average Speed   Time    Time     Time  Current\n",
            "                                 Dload  Upload   Total   Spent    Left  Speed\n",
            "100 13281    0 13281    0     0  36528      0 --:--:-- --:--:-- --:--:-- 36586\n",
            ">>> Cleaning up old version at /usr/local/lib/ollama\n",
            ">>> Installing ollama to /usr/local\n",
            ">>> Downloading Linux amd64 bundle\n",
            "######################################################################## 100.0%\n",
            ">>> Adding ollama user to video group...\n",
            ">>> Adding current user to ollama group...\n",
            ">>> Creating ollama systemd service...\n",
            "\u001b[1m\u001b[31mWARNING:\u001b[m systemd is not running\n",
            "\u001b[1m\u001b[31mWARNING:\u001b[m Unable to detect NVIDIA/AMD GPU. Install lspci or lshw to automatically detect and install GPU dependencies.\n",
            ">>> The Ollama API is now available at 127.0.0.1:11434.\n",
            ">>> Install complete. Run \"ollama\" from the command line.\n",
            "Get:1 https://developer.download.nvidia.com/compute/cuda/repos/ubuntu2204/x86_64  InRelease [1,581 B]\n",
            "Get:2 https://cloud.r-project.org/bin/linux/ubuntu jammy-cran40/ InRelease [3,632 B]\n",
            "Get:3 https://developer.download.nvidia.com/compute/cuda/repos/ubuntu2204/x86_64  Packages [1,853 kB]\n",
            "Get:4 http://security.ubuntu.com/ubuntu jammy-security InRelease [129 kB]\n",
            "Hit:5 http://archive.ubuntu.com/ubuntu jammy InRelease\n",
            "Get:6 http://archive.ubuntu.com/ubuntu jammy-updates InRelease [128 kB]\n",
            "Hit:7 https://ppa.launchpadcontent.net/deadsnakes/ppa/ubuntu jammy InRelease\n",
            "Get:8 https://r2u.stat.illinois.edu/ubuntu jammy InRelease [6,555 B]\n",
            "Hit:9 https://ppa.launchpadcontent.net/graphics-drivers/ppa/ubuntu jammy InRelease\n",
            "Get:10 http://archive.ubuntu.com/ubuntu jammy-backports InRelease [127 kB]\n",
            "Get:11 http://security.ubuntu.com/ubuntu jammy-security/universe amd64 Packages [1,269 kB]\n",
            "Hit:12 https://ppa.launchpadcontent.net/ubuntugis/ppa/ubuntu jammy InRelease\n",
            "Get:13 http://archive.ubuntu.com/ubuntu jammy-updates/universe amd64 Packages [1,574 kB]\n",
            "Get:14 https://r2u.stat.illinois.edu/ubuntu jammy/main all Packages [9,152 kB]\n",
            "Get:15 http://security.ubuntu.com/ubuntu jammy-security/main amd64 Packages [3,160 kB]\n",
            "Get:16 http://archive.ubuntu.com/ubuntu jammy-updates/main amd64 Packages [3,471 kB]\n",
            "Get:17 https://r2u.stat.illinois.edu/ubuntu jammy/main amd64 Packages [2,771 kB]\n",
            "Fetched 23.6 MB in 5s (5,191 kB/s)\n",
            "Reading package lists... Done\n",
            "W: Skipping acquire of configured file 'main/source/Sources' as repository 'https://r2u.stat.illinois.edu/ubuntu jammy InRelease' does not seem to provide it (sources.list entry misspelt?)\n",
            "Reading package lists... Done\n",
            "Building dependency tree... Done\n",
            "Reading state information... Done\n",
            "The following additional packages will be installed:\n",
            "  cuda-drivers-575 dkms fakeroot keyboard-configuration libfakeroot\n",
            "  libgail-common libgail18 libgtk2.0-0 libgtk2.0-bin libgtk2.0-common\n",
            "  libgudev-1.0-0 libjansson4 liblocale-gettext-perl libnvidia-cfg1-575\n",
            "  libnvidia-common-575 libnvidia-compute-575 libnvidia-decode-575\n",
            "  libnvidia-encode-575 libnvidia-extra-575 libnvidia-fbc1-575 libnvidia-gl-575\n",
            "  libnvidia-gpucomp-575 librsvg2-common libudev1 libxcvt0\n",
            "  nvidia-compute-utils-575 nvidia-dkms-575 nvidia-driver-575\n",
            "  nvidia-firmware-575 nvidia-kernel-common-575 nvidia-kernel-source-575\n",
            "  nvidia-modprobe nvidia-persistenced nvidia-settings nvidia-utils-575\n",
            "  python3-xkit screen-resolution-extra switcheroo-control systemd-hwe-hwdb\n",
            "  udev xcvt xserver-xorg-core xserver-xorg-video-nvidia-575\n",
            "Suggested packages:\n",
            "  menu gvfs xfonts-100dpi | xfonts-75dpi xfonts-scalable\n",
            "Recommended packages:\n",
            "  libnvidia-compute-575:i386 libnvidia-decode-575:i386\n",
            "  libnvidia-encode-575:i386 libnvidia-fbc1-575:i386 libnvidia-gl-575:i386\n",
            "The following NEW packages will be installed:\n",
            "  cuda-drivers cuda-drivers-575 dkms fakeroot keyboard-configuration\n",
            "  libfakeroot libgail-common libgail18 libgtk2.0-0 libgtk2.0-bin\n",
            "  libgtk2.0-common libgudev-1.0-0 libjansson4 liblocale-gettext-perl\n",
            "  libnvidia-cfg1-575 libnvidia-common-575 libnvidia-compute-575\n",
            "  libnvidia-decode-575 libnvidia-encode-575 libnvidia-extra-575\n",
            "  libnvidia-fbc1-575 libnvidia-gl-575 libnvidia-gpucomp-575 librsvg2-common\n",
            "  libxcvt0 nvidia-compute-utils-575 nvidia-dkms-575 nvidia-driver-575\n",
            "  nvidia-firmware-575 nvidia-kernel-common-575 nvidia-kernel-source-575\n",
            "  nvidia-modprobe nvidia-persistenced nvidia-settings nvidia-utils-575\n",
            "  python3-xkit screen-resolution-extra switcheroo-control systemd-hwe-hwdb\n",
            "  udev xcvt xserver-xorg-core xserver-xorg-video-nvidia-575\n",
            "The following packages will be upgraded:\n",
            "  libudev1\n",
            "1 upgraded, 43 newly installed, 0 to remove and 34 not upgraded.\n",
            "Need to get 381 MB of archives.\n",
            "After this operation, 1,165 MB of additional disk space will be used.\n",
            "Get:1 https://developer.download.nvidia.com/compute/cuda/repos/ubuntu2204/x86_64  dkms 1:3.2.1-1ubuntu2 [53.5 kB]\n",
            "Get:2 https://developer.download.nvidia.com/compute/cuda/repos/ubuntu2204/x86_64  libnvidia-common-575 575.57.08-0ubuntu1 [15.2 kB]\n",
            "Get:3 https://developer.download.nvidia.com/compute/cuda/repos/ubuntu2204/x86_64  libnvidia-decode-575 575.57.08-0ubuntu1 [2,555 kB]\n",
            "Get:4 https://developer.download.nvidia.com/compute/cuda/repos/ubuntu2204/x86_64  libnvidia-cfg1-575 575.57.08-0ubuntu1 [145 kB]\n",
            "Get:5 https://developer.download.nvidia.com/compute/cuda/repos/ubuntu2204/x86_64  libnvidia-gpucomp-575 575.57.08-0ubuntu1 [17.8 MB]\n",
            "Get:6 https://developer.download.nvidia.com/compute/cuda/repos/ubuntu2204/x86_64  nvidia-persistenced 575.57.08-1ubuntu1 [82.4 kB]\n",
            "Get:7 https://developer.download.nvidia.com/compute/cuda/repos/ubuntu2204/x86_64  libnvidia-compute-575 575.57.08-0ubuntu1 [54.2 MB]\n",
            "Get:8 http://archive.ubuntu.com/ubuntu jammy/main amd64 liblocale-gettext-perl amd64 1.07-4build3 [17.1 kB]\n",
            "Get:9 https://developer.download.nvidia.com/compute/cuda/repos/ubuntu2204/x86_64  libnvidia-gl-575 575.57.08-0ubuntu1 [135 MB]\n",
            "Get:10 http://archive.ubuntu.com/ubuntu jammy/main amd64 keyboard-configuration all 1.205ubuntu3 [206 kB]\n",
            "Get:11 http://archive.ubuntu.com/ubuntu jammy-updates/main amd64 libudev1 amd64 249.11-0ubuntu3.16 [76.7 kB]\n",
            "Get:12 http://archive.ubuntu.com/ubuntu jammy-updates/main amd64 udev amd64 249.11-0ubuntu3.16 [1,557 kB]\n",
            "Get:13 https://developer.download.nvidia.com/compute/cuda/repos/ubuntu2204/x86_64  nvidia-kernel-source-575 575.57.08-0ubuntu1 [85.6 MB]\n",
            "Get:14 http://archive.ubuntu.com/ubuntu jammy/main amd64 libjansson4 amd64 2.13.1-1.1build3 [32.4 kB]\n",
            "Get:15 http://archive.ubuntu.com/ubuntu jammy/main amd64 libxcvt0 amd64 0.1.1-3 [5,494 B]\n",
            "Get:16 http://archive.ubuntu.com/ubuntu jammy-updates/main amd64 xserver-xorg-core amd64 2:21.1.4-2ubuntu1.7~22.04.15 [1,477 kB]\n",
            "Get:17 http://archive.ubuntu.com/ubuntu jammy/main amd64 libfakeroot amd64 1.28-1ubuntu1 [31.5 kB]\n",
            "Get:18 http://archive.ubuntu.com/ubuntu jammy/main amd64 fakeroot amd64 1.28-1ubuntu1 [60.4 kB]\n",
            "Get:19 http://archive.ubuntu.com/ubuntu jammy-updates/main amd64 libgtk2.0-common all 2.24.33-2ubuntu2.1 [125 kB]\n",
            "Get:20 http://archive.ubuntu.com/ubuntu jammy-updates/main amd64 libgtk2.0-0 amd64 2.24.33-2ubuntu2.1 [2,038 kB]\n",
            "Get:21 http://archive.ubuntu.com/ubuntu jammy-updates/main amd64 libgail18 amd64 2.24.33-2ubuntu2.1 [15.9 kB]\n",
            "Get:22 http://archive.ubuntu.com/ubuntu jammy-updates/main amd64 libgail-common amd64 2.24.33-2ubuntu2.1 [132 kB]\n",
            "Get:23 http://archive.ubuntu.com/ubuntu jammy-updates/main amd64 libgtk2.0-bin amd64 2.24.33-2ubuntu2.1 [7,936 B]\n",
            "Get:24 http://archive.ubuntu.com/ubuntu jammy/main amd64 libgudev-1.0-0 amd64 1:237-2build1 [16.3 kB]\n",
            "Get:25 http://archive.ubuntu.com/ubuntu jammy-updates/main amd64 librsvg2-common amd64 2.52.5+dfsg-3ubuntu0.2 [17.7 kB]\n",
            "Get:26 http://archive.ubuntu.com/ubuntu jammy/main amd64 python3-xkit all 0.5.0ubuntu5 [18.5 kB]\n",
            "Get:27 http://archive.ubuntu.com/ubuntu jammy/main amd64 screen-resolution-extra all 0.18.2 [4,396 B]\n",
            "Get:28 http://archive.ubuntu.com/ubuntu jammy/main amd64 switcheroo-control amd64 2.4-3build2 [16.5 kB]\n",
            "Get:29 http://archive.ubuntu.com/ubuntu jammy-updates/main amd64 systemd-hwe-hwdb all 249.11.5 [3,228 B]\n",
            "Get:30 http://archive.ubuntu.com/ubuntu jammy/main amd64 xcvt amd64 0.1.1-3 [7,140 B]\n",
            "Get:31 https://developer.download.nvidia.com/compute/cuda/repos/ubuntu2204/x86_64  nvidia-firmware-575 575.57.08-0ubuntu1 [74.9 MB]\n",
            "Get:32 https://developer.download.nvidia.com/compute/cuda/repos/ubuntu2204/x86_64  nvidia-modprobe 575.57.08-0ubuntu1 [14.9 kB]\n",
            "Get:33 https://developer.download.nvidia.com/compute/cuda/repos/ubuntu2204/x86_64  nvidia-kernel-common-575 575.57.08-0ubuntu1 [1,244 kB]\n",
            "Get:34 https://developer.download.nvidia.com/compute/cuda/repos/ubuntu2204/x86_64  nvidia-dkms-575 575.57.08-0ubuntu1 [13.2 kB]\n",
            "Get:35 https://developer.download.nvidia.com/compute/cuda/repos/ubuntu2204/x86_64  libnvidia-extra-575 575.57.08-0ubuntu1 [72.4 kB]\n",
            "Get:36 https://developer.download.nvidia.com/compute/cuda/repos/ubuntu2204/x86_64  nvidia-compute-utils-575 575.57.08-0ubuntu1 [40.6 kB]\n",
            "Get:37 https://developer.download.nvidia.com/compute/cuda/repos/ubuntu2204/x86_64  libnvidia-encode-575 575.57.08-0ubuntu1 [105 kB]\n",
            "Get:38 https://developer.download.nvidia.com/compute/cuda/repos/ubuntu2204/x86_64  nvidia-utils-575 575.57.08-0ubuntu1 [457 kB]\n",
            "Get:39 https://developer.download.nvidia.com/compute/cuda/repos/ubuntu2204/x86_64  xserver-xorg-video-nvidia-575 575.57.08-0ubuntu1 [1,696 kB]\n",
            "Get:40 https://developer.download.nvidia.com/compute/cuda/repos/ubuntu2204/x86_64  libnvidia-fbc1-575 575.57.08-0ubuntu1 [97.7 kB]\n",
            "Get:41 https://developer.download.nvidia.com/compute/cuda/repos/ubuntu2204/x86_64  nvidia-driver-575 575.57.08-0ubuntu1 [496 kB]\n",
            "Get:42 https://developer.download.nvidia.com/compute/cuda/repos/ubuntu2204/x86_64  cuda-drivers-575 575.57.08-0ubuntu1 [2,562 B]\n",
            "Get:43 https://developer.download.nvidia.com/compute/cuda/repos/ubuntu2204/x86_64  cuda-drivers 575.57.08-0ubuntu1 [2,510 B]\n",
            "Get:44 https://developer.download.nvidia.com/compute/cuda/repos/ubuntu2204/x86_64  nvidia-settings 575.57.08-0ubuntu1 [960 kB]\n",
            "Fetched 381 MB in 5s (81.4 MB/s)\n",
            "Extracting templates from packages: 100%\n",
            "Preconfiguring packages ...\n",
            "Selecting previously unselected package liblocale-gettext-perl.\n",
            "(Reading database ... 126284 files and directories currently installed.)\n",
            "Preparing to unpack .../liblocale-gettext-perl_1.07-4build3_amd64.deb ...\n",
            "Unpacking liblocale-gettext-perl (1.07-4build3) ...\n",
            "Selecting previously unselected package keyboard-configuration.\n",
            "Preparing to unpack .../keyboard-configuration_1.205ubuntu3_all.deb ...\n",
            "Unpacking keyboard-configuration (1.205ubuntu3) ...\n",
            "Selecting previously unselected package dkms.\n",
            "Preparing to unpack .../dkms_1%3a3.2.1-1ubuntu2_all.deb ...\n",
            "Unpacking dkms (1:3.2.1-1ubuntu2) ...\n",
            "Preparing to unpack .../libudev1_249.11-0ubuntu3.16_amd64.deb ...\n",
            "Unpacking libudev1:amd64 (249.11-0ubuntu3.16) over (249.11-0ubuntu3.12) ...\n",
            "Setting up libudev1:amd64 (249.11-0ubuntu3.16) ...\n",
            "Selecting previously unselected package udev.\n",
            "(Reading database ... 126345 files and directories currently installed.)\n",
            "Preparing to unpack .../00-udev_249.11-0ubuntu3.16_amd64.deb ...\n",
            "Unpacking udev (249.11-0ubuntu3.16) ...\n",
            "Selecting previously unselected package libjansson4:amd64.\n",
            "Preparing to unpack .../01-libjansson4_2.13.1-1.1build3_amd64.deb ...\n",
            "Unpacking libjansson4:amd64 (2.13.1-1.1build3) ...\n",
            "Selecting previously unselected package libnvidia-common-575.\n",
            "Preparing to unpack .../02-libnvidia-common-575_575.57.08-0ubuntu1_all.deb ...\n",
            "Unpacking libnvidia-common-575 (575.57.08-0ubuntu1) ...\n",
            "Selecting previously unselected package libnvidia-decode-575:amd64.\n",
            "Preparing to unpack .../03-libnvidia-decode-575_575.57.08-0ubuntu1_amd64.deb ...\n",
            "Unpacking libnvidia-decode-575:amd64 (575.57.08-0ubuntu1) ...\n",
            "Selecting previously unselected package libnvidia-cfg1-575:amd64.\n",
            "Preparing to unpack .../04-libnvidia-cfg1-575_575.57.08-0ubuntu1_amd64.deb ...\n",
            "Unpacking libnvidia-cfg1-575:amd64 (575.57.08-0ubuntu1) ...\n",
            "Selecting previously unselected package libnvidia-gpucomp-575:amd64.\n",
            "Preparing to unpack .../05-libnvidia-gpucomp-575_575.57.08-0ubuntu1_amd64.deb ...\n",
            "Unpacking libnvidia-gpucomp-575:amd64 (575.57.08-0ubuntu1) ...\n",
            "Selecting previously unselected package nvidia-persistenced.\n",
            "Preparing to unpack .../06-nvidia-persistenced_575.57.08-1ubuntu1_amd64.deb ...\n",
            "Unpacking nvidia-persistenced (575.57.08-1ubuntu1) ...\n",
            "Selecting previously unselected package libnvidia-compute-575:amd64.\n",
            "Preparing to unpack .../07-libnvidia-compute-575_575.57.08-0ubuntu1_amd64.deb ...\n",
            "Unpacking libnvidia-compute-575:amd64 (575.57.08-0ubuntu1) ...\n",
            "Selecting previously unselected package libnvidia-gl-575:amd64.\n",
            "Preparing to unpack .../08-libnvidia-gl-575_575.57.08-0ubuntu1_amd64.deb ...\n",
            "dpkg-query: no packages found matching libnvidia-gl-535\n",
            "Unpacking libnvidia-gl-575:amd64 (575.57.08-0ubuntu1) ...\n",
            "Selecting previously unselected package nvidia-kernel-source-575.\n",
            "Preparing to unpack .../09-nvidia-kernel-source-575_575.57.08-0ubuntu1_amd64.deb ...\n",
            "Unpacking nvidia-kernel-source-575 (575.57.08-0ubuntu1) ...\n",
            "Selecting previously unselected package nvidia-firmware-575.\n",
            "Preparing to unpack .../10-nvidia-firmware-575_575.57.08-0ubuntu1_amd64.deb ...\n",
            "Unpacking nvidia-firmware-575 (575.57.08-0ubuntu1) ...\n",
            "Selecting previously unselected package nvidia-modprobe.\n",
            "Preparing to unpack .../11-nvidia-modprobe_575.57.08-0ubuntu1_amd64.deb ...\n",
            "Unpacking nvidia-modprobe (575.57.08-0ubuntu1) ...\n",
            "Selecting previously unselected package nvidia-kernel-common-575.\n",
            "Preparing to unpack .../12-nvidia-kernel-common-575_575.57.08-0ubuntu1_amd64.deb ...\n",
            "Unpacking nvidia-kernel-common-575 (575.57.08-0ubuntu1) ...\n",
            "Selecting previously unselected package nvidia-dkms-575.\n",
            "Preparing to unpack .../13-nvidia-dkms-575_575.57.08-0ubuntu1_amd64.deb ...\n",
            "Unpacking nvidia-dkms-575 (575.57.08-0ubuntu1) ...\n",
            "Selecting previously unselected package libnvidia-extra-575:amd64.\n",
            "Preparing to unpack .../14-libnvidia-extra-575_575.57.08-0ubuntu1_amd64.deb ...\n",
            "Unpacking libnvidia-extra-575:amd64 (575.57.08-0ubuntu1) ...\n",
            "Selecting previously unselected package nvidia-compute-utils-575.\n",
            "Preparing to unpack .../15-nvidia-compute-utils-575_575.57.08-0ubuntu1_amd64.deb ...\n",
            "Unpacking nvidia-compute-utils-575 (575.57.08-0ubuntu1) ...\n",
            "Selecting previously unselected package libnvidia-encode-575:amd64.\n",
            "Preparing to unpack .../16-libnvidia-encode-575_575.57.08-0ubuntu1_amd64.deb ...\n",
            "Unpacking libnvidia-encode-575:amd64 (575.57.08-0ubuntu1) ...\n",
            "Selecting previously unselected package nvidia-utils-575.\n",
            "Preparing to unpack .../17-nvidia-utils-575_575.57.08-0ubuntu1_amd64.deb ...\n",
            "Unpacking nvidia-utils-575 (575.57.08-0ubuntu1) ...\n",
            "Selecting previously unselected package libxcvt0:amd64.\n",
            "Preparing to unpack .../18-libxcvt0_0.1.1-3_amd64.deb ...\n",
            "Unpacking libxcvt0:amd64 (0.1.1-3) ...\n",
            "Selecting previously unselected package xserver-xorg-core.\n",
            "Preparing to unpack .../19-xserver-xorg-core_2%3a21.1.4-2ubuntu1.7~22.04.15_amd64.deb ...\n",
            "Unpacking xserver-xorg-core (2:21.1.4-2ubuntu1.7~22.04.15) ...\n",
            "Selecting previously unselected package xserver-xorg-video-nvidia-575.\n",
            "Preparing to unpack .../20-xserver-xorg-video-nvidia-575_575.57.08-0ubuntu1_amd64.deb ...\n",
            "Unpacking xserver-xorg-video-nvidia-575 (575.57.08-0ubuntu1) ...\n",
            "Selecting previously unselected package libnvidia-fbc1-575:amd64.\n",
            "Preparing to unpack .../21-libnvidia-fbc1-575_575.57.08-0ubuntu1_amd64.deb ...\n",
            "Unpacking libnvidia-fbc1-575:amd64 (575.57.08-0ubuntu1) ...\n",
            "Selecting previously unselected package nvidia-driver-575.\n",
            "Preparing to unpack .../22-nvidia-driver-575_575.57.08-0ubuntu1_amd64.deb ...\n",
            "Unpacking nvidia-driver-575 (575.57.08-0ubuntu1) ...\n",
            "Selecting previously unselected package cuda-drivers-575.\n",
            "Preparing to unpack .../23-cuda-drivers-575_575.57.08-0ubuntu1_amd64.deb ...\n",
            "Unpacking cuda-drivers-575 (575.57.08-0ubuntu1) ...\n",
            "Selecting previously unselected package cuda-drivers.\n",
            "Preparing to unpack .../24-cuda-drivers_575.57.08-0ubuntu1_amd64.deb ...\n",
            "Unpacking cuda-drivers (575.57.08-0ubuntu1) ...\n",
            "Selecting previously unselected package libfakeroot:amd64.\n",
            "Preparing to unpack .../25-libfakeroot_1.28-1ubuntu1_amd64.deb ...\n",
            "Unpacking libfakeroot:amd64 (1.28-1ubuntu1) ...\n",
            "Selecting previously unselected package fakeroot.\n",
            "Preparing to unpack .../26-fakeroot_1.28-1ubuntu1_amd64.deb ...\n",
            "Unpacking fakeroot (1.28-1ubuntu1) ...\n",
            "Selecting previously unselected package libgtk2.0-common.\n",
            "Preparing to unpack .../27-libgtk2.0-common_2.24.33-2ubuntu2.1_all.deb ...\n",
            "Unpacking libgtk2.0-common (2.24.33-2ubuntu2.1) ...\n",
            "Selecting previously unselected package libgtk2.0-0:amd64.\n",
            "Preparing to unpack .../28-libgtk2.0-0_2.24.33-2ubuntu2.1_amd64.deb ...\n",
            "Unpacking libgtk2.0-0:amd64 (2.24.33-2ubuntu2.1) ...\n",
            "Selecting previously unselected package libgail18:amd64.\n",
            "Preparing to unpack .../29-libgail18_2.24.33-2ubuntu2.1_amd64.deb ...\n",
            "Unpacking libgail18:amd64 (2.24.33-2ubuntu2.1) ...\n",
            "Selecting previously unselected package libgail-common:amd64.\n",
            "Preparing to unpack .../30-libgail-common_2.24.33-2ubuntu2.1_amd64.deb ...\n",
            "Unpacking libgail-common:amd64 (2.24.33-2ubuntu2.1) ...\n",
            "Selecting previously unselected package libgtk2.0-bin.\n",
            "Preparing to unpack .../31-libgtk2.0-bin_2.24.33-2ubuntu2.1_amd64.deb ...\n",
            "Unpacking libgtk2.0-bin (2.24.33-2ubuntu2.1) ...\n",
            "Selecting previously unselected package libgudev-1.0-0:amd64.\n",
            "Preparing to unpack .../32-libgudev-1.0-0_1%3a237-2build1_amd64.deb ...\n",
            "Unpacking libgudev-1.0-0:amd64 (1:237-2build1) ...\n",
            "Selecting previously unselected package librsvg2-common:amd64.\n",
            "Preparing to unpack .../33-librsvg2-common_2.52.5+dfsg-3ubuntu0.2_amd64.deb ...\n",
            "Unpacking librsvg2-common:amd64 (2.52.5+dfsg-3ubuntu0.2) ...\n",
            "Selecting previously unselected package python3-xkit.\n",
            "Preparing to unpack .../34-python3-xkit_0.5.0ubuntu5_all.deb ...\n",
            "Unpacking python3-xkit (0.5.0ubuntu5) ...\n",
            "Selecting previously unselected package screen-resolution-extra.\n",
            "Preparing to unpack .../35-screen-resolution-extra_0.18.2_all.deb ...\n",
            "Unpacking screen-resolution-extra (0.18.2) ...\n",
            "Selecting previously unselected package nvidia-settings.\n",
            "Preparing to unpack .../36-nvidia-settings_575.57.08-0ubuntu1_amd64.deb ...\n",
            "Unpacking nvidia-settings (575.57.08-0ubuntu1) ...\n",
            "Selecting previously unselected package switcheroo-control.\n",
            "Preparing to unpack .../37-switcheroo-control_2.4-3build2_amd64.deb ...\n",
            "Unpacking switcheroo-control (2.4-3build2) ...\n",
            "Selecting previously unselected package systemd-hwe-hwdb.\n",
            "Preparing to unpack .../38-systemd-hwe-hwdb_249.11.5_all.deb ...\n",
            "Unpacking systemd-hwe-hwdb (249.11.5) ...\n",
            "Selecting previously unselected package xcvt.\n",
            "Preparing to unpack .../39-xcvt_0.1.1-3_amd64.deb ...\n",
            "Unpacking xcvt (0.1.1-3) ...\n",
            "Setting up libnvidia-gpucomp-575:amd64 (575.57.08-0ubuntu1) ...\n",
            "Setting up libfakeroot:amd64 (1.28-1ubuntu1) ...\n",
            "Setting up libjansson4:amd64 (2.13.1-1.1build3) ...\n",
            "Setting up dkms (1:3.2.1-1ubuntu2) ...\n",
            "Setting up nvidia-modprobe (575.57.08-0ubuntu1) ...\n",
            "Setting up fakeroot (1.28-1ubuntu1) ...\n",
            "update-alternatives: using /usr/bin/fakeroot-sysv to provide /usr/bin/fakeroot (fakeroot) in auto mode\n",
            "Setting up nvidia-kernel-source-575 (575.57.08-0ubuntu1) ...\n",
            "Setting up libnvidia-fbc1-575:amd64 (575.57.08-0ubuntu1) ...\n",
            "Setting up udev (249.11-0ubuntu3.16) ...\n",
            "invoke-rc.d: could not determine current runlevel\n",
            "invoke-rc.d: policy-rc.d denied execution of start.\n",
            "Setting up librsvg2-common:amd64 (2.52.5+dfsg-3ubuntu0.2) ...\n",
            "Setting up systemd-hwe-hwdb (249.11.5) ...\n",
            "Setting up libxcvt0:amd64 (0.1.1-3) ...\n",
            "Setting up libnvidia-common-575 (575.57.08-0ubuntu1) ...\n",
            "Setting up libgtk2.0-common (2.24.33-2ubuntu2.1) ...\n",
            "Setting up nvidia-firmware-575 (575.57.08-0ubuntu1) ...\n",
            "Setting up libnvidia-extra-575:amd64 (575.57.08-0ubuntu1) ...\n",
            "Setting up python3-xkit (0.5.0ubuntu5) ...\n",
            "Setting up libnvidia-cfg1-575:amd64 (575.57.08-0ubuntu1) ...\n",
            "Setting up liblocale-gettext-perl (1.07-4build3) ...\n",
            "Setting up libgudev-1.0-0:amd64 (1:237-2build1) ...\n",
            "Setting up nvidia-persistenced (575.57.08-1ubuntu1) ...\n",
            "Warning: The home dir /var/run/nvpd/ you specified can't be accessed: No such file or directory\n",
            "Adding system user `nvpd' (UID 104) ...\n",
            "Adding new group `nvpd' (GID 111) ...\n",
            "Adding new user `nvpd' (UID 104) with group `nvpd' ...\n",
            "Not creating home directory `/var/run/nvpd/'.\n",
            "Created symlink /etc/systemd/system/multi-user.target.wants/nvidia-persistenced.service → /lib/systemd/system/nvidia-persistenced.service.\n",
            "Setting up libgtk2.0-0:amd64 (2.24.33-2ubuntu2.1) ...\n",
            "Setting up xcvt (0.1.1-3) ...\n",
            "Setting up nvidia-kernel-common-575 (575.57.08-0ubuntu1) ...\n",
            "Setting up screen-resolution-extra (0.18.2) ...\n",
            "Setting up libgail18:amd64 (2.24.33-2ubuntu2.1) ...\n",
            "Setting up libgtk2.0-bin (2.24.33-2ubuntu2.1) ...\n",
            "Setting up switcheroo-control (2.4-3build2) ...\n",
            "Created symlink /etc/systemd/system/graphical.target.wants/switcheroo-control.service → /lib/systemd/system/switcheroo-control.service.\n",
            "Setting up nvidia-settings (575.57.08-0ubuntu1) ...\n",
            "Setting up keyboard-configuration (1.205ubuntu3) ...\n",
            "Your console font configuration will be updated the next time your system\n",
            "boots. If you want to update it now, run 'setupcon' from a virtual console.\n",
            "Setting up nvidia-dkms-575 (575.57.08-0ubuntu1) ...\n",
            "Loading new nvidia/575.57.08 DKMS files...\n",
            "Building for 5.15.0-144-generic\n",
            "\n",
            "Building initial module nvidia/575.57.08 for 5.15.0-144-generic\n",
            "Sign command: /usr/src/linux-headers-5.15.0-144-generic/scripts/sign-file\n",
            "Binary update-secureboot-policy not found, modules won't be signed\n",
            "\n",
            "Building module(s).................................................................................... done.\n",
            "Installing /lib/modules/5.15.0-144-generic/updates/dkms/nvidia.ko\n",
            "Installing /lib/modules/5.15.0-144-generic/updates/dkms/nvidia-modeset.ko\n",
            "Installing /lib/modules/5.15.0-144-generic/updates/dkms/nvidia-drm.ko\n",
            "Installing /lib/modules/5.15.0-144-generic/updates/dkms/nvidia-uvm.ko\n",
            "Installing /lib/modules/5.15.0-144-generic/updates/dkms/nvidia-peermem.ko\n",
            "Running depmod... done.\n",
            "Setting up libgail-common:amd64 (2.24.33-2ubuntu2.1) ...\n",
            "Setting up xserver-xorg-core (2:21.1.4-2ubuntu1.7~22.04.15) ...\n",
            "Setting up xserver-xorg-video-nvidia-575 (575.57.08-0ubuntu1) ...\n",
            "Setting up libnvidia-decode-575:amd64 (575.57.08-0ubuntu1) ...\n",
            "Setting up libnvidia-compute-575:amd64 (575.57.08-0ubuntu1) ...\n",
            "Setting up libnvidia-encode-575:amd64 (575.57.08-0ubuntu1) ...\n",
            "Setting up nvidia-utils-575 (575.57.08-0ubuntu1) ...\n",
            "Setting up nvidia-compute-utils-575 (575.57.08-0ubuntu1) ...\n",
            "Setting up libnvidia-gl-575:amd64 (575.57.08-0ubuntu1) ...\n",
            "Setting up nvidia-driver-575 (575.57.08-0ubuntu1) ...\n",
            "Setting up cuda-drivers-575 (575.57.08-0ubuntu1) ...\n",
            "Setting up cuda-drivers (575.57.08-0ubuntu1) ...\n",
            "Processing triggers for libgdk-pixbuf-2.0-0:amd64 (2.42.8+dfsg-1ubuntu0.4) ...\n",
            "Processing triggers for mailcap (3.70+nmu1ubuntu1) ...\n",
            "Processing triggers for libc-bin (2.35-0ubuntu3.8) ...\n",
            "/sbin/ldconfig.real: /usr/local/lib/libur_loader.so.0 is not a symbolic link\n",
            "\n",
            "/sbin/ldconfig.real: /usr/local/lib/libumf.so.0 is not a symbolic link\n",
            "\n",
            "/sbin/ldconfig.real: /usr/local/lib/libtbbbind_2_0.so.3 is not a symbolic link\n",
            "\n",
            "/sbin/ldconfig.real: /usr/local/lib/libtbbmalloc.so.2 is not a symbolic link\n",
            "\n",
            "/sbin/ldconfig.real: /usr/local/lib/libtbbmalloc_proxy.so.2 is not a symbolic link\n",
            "\n",
            "/sbin/ldconfig.real: /usr/local/lib/libhwloc.so.15 is not a symbolic link\n",
            "\n",
            "/sbin/ldconfig.real: /usr/local/lib/libur_adapter_level_zero_v2.so.0 is not a symbolic link\n",
            "\n",
            "/sbin/ldconfig.real: /usr/local/lib/libtbb.so.12 is not a symbolic link\n",
            "\n",
            "/sbin/ldconfig.real: /usr/local/lib/libtbbbind_2_5.so.3 is not a symbolic link\n",
            "\n",
            "/sbin/ldconfig.real: /usr/local/lib/libtbbbind.so.3 is not a symbolic link\n",
            "\n",
            "/sbin/ldconfig.real: /usr/local/lib/libtcm_debug.so.1 is not a symbolic link\n",
            "\n",
            "/sbin/ldconfig.real: /usr/local/lib/libur_adapter_opencl.so.0 is not a symbolic link\n",
            "\n",
            "/sbin/ldconfig.real: /usr/local/lib/libur_adapter_level_zero.so.0 is not a symbolic link\n",
            "\n",
            "/sbin/ldconfig.real: /usr/local/lib/libtcm.so.1 is not a symbolic link\n",
            "\n",
            "Processing triggers for man-db (2.10.2-1) ...\n",
            "Processing triggers for dbus (1.12.20-2ubuntu4.1) ...\n"
          ]
        }
      ]
    },
    {
      "cell_type": "code",
      "source": [
        "!curl https://ollama.ai/install.sh | sh"
      ],
      "metadata": {
        "id": "mbOeGdWLy2_T"
      },
      "id": "mbOeGdWLy2_T",
      "execution_count": null,
      "outputs": []
    },
    {
      "cell_type": "markdown",
      "source": [
        "## start server"
      ],
      "metadata": {
        "id": "j4iPM2TBvtgq"
      },
      "id": "j4iPM2TBvtgq"
    },
    {
      "cell_type": "code",
      "source": [
        "!nohup ollama serve &"
      ],
      "metadata": {
        "id": "5azgcgBOvtEI",
        "outputId": "7731cb7a-bc46-46d0-aa3b-dec9aa3b3284",
        "colab": {
          "base_uri": "https://localhost:8080/"
        }
      },
      "id": "5azgcgBOvtEI",
      "execution_count": 2,
      "outputs": [
        {
          "output_type": "stream",
          "name": "stdout",
          "text": [
            "nohup: appending output to 'nohup.out'\n"
          ]
        }
      ]
    },
    {
      "cell_type": "code",
      "source": [
        "OLLAMA_MODEL = \"jobautomation/OpenEuroLLM-Romanian:latest\""
      ],
      "metadata": {
        "id": "N9CPxxXTtAOt"
      },
      "id": "N9CPxxXTtAOt",
      "execution_count": 3,
      "outputs": []
    },
    {
      "cell_type": "code",
      "source": [
        "!ollama pull {OLLAMA_MODEL}"
      ],
      "metadata": {
        "id": "rrRa4N4iv2O3",
        "outputId": "47554dbb-1804-4c67-c3ea-f4c0b26f3f15",
        "colab": {
          "base_uri": "https://localhost:8080/"
        }
      },
      "id": "rrRa4N4iv2O3",
      "execution_count": 4,
      "outputs": [
        {
          "output_type": "stream",
          "name": "stdout",
          "text": [
            "\u001b[?2026h\u001b[?25l\u001b[1G\u001b[?25h\u001b[?2026l\u001b[?2026h\u001b[?25l\u001b[1G\u001b[?25h\u001b[?2026l\u001b[?2026h\u001b[?25l\u001b[1G\u001b[?25h\u001b[?2026l\u001b[?2026h\u001b[?25l\u001b[1G\u001b[?25h\u001b[?2026l\u001b[?2026h\u001b[?25l\u001b[1G\u001b[?25h\u001b[?2026l\u001b[?2026h\u001b[?25l\u001b[1G\u001b[?25h\u001b[?2026l\u001b[?2026h\u001b[?25l\u001b[1G\u001b[?25h\u001b[?2026l\u001b[?2026h\u001b[?25l\u001b[1G\u001b[?25h\u001b[?2026l\u001b[?2026h\u001b[?25l\u001b[1G\u001b[?25h\u001b[?2026l\u001b[?2026h\u001b[?25l\u001b[1G\u001b[?25h\u001b[?2026l\n"
          ]
        }
      ]
    },
    {
      "cell_type": "code",
      "source": [
        "!ollama ls"
      ],
      "metadata": {
        "id": "SiSg8__NwdYR",
        "outputId": "0803057f-f160-4733-ef49-b40872f881d9",
        "colab": {
          "base_uri": "https://localhost:8080/"
        }
      },
      "id": "SiSg8__NwdYR",
      "execution_count": 5,
      "outputs": [
        {
          "output_type": "stream",
          "name": "stdout",
          "text": [
            "NAME                                         ID              SIZE      MODIFIED       \n",
            "jobautomation/OpenEuroLLM-Romanian:latest    08d230e07f63    8.1 GB    39 seconds ago    \n"
          ]
        }
      ]
    },
    {
      "cell_type": "code",
      "source": [
        "!pip install ollama"
      ],
      "metadata": {
        "id": "J4UbZ4OlwE9T",
        "outputId": "57802492-32d4-41f6-8da0-ea1e5b2e70d4",
        "colab": {
          "base_uri": "https://localhost:8080/"
        }
      },
      "id": "J4UbZ4OlwE9T",
      "execution_count": 6,
      "outputs": [
        {
          "output_type": "stream",
          "name": "stdout",
          "text": [
            "Requirement already satisfied: ollama in /usr/local/lib/python3.11/dist-packages (0.5.1)\n",
            "Requirement already satisfied: httpx>=0.27 in /usr/local/lib/python3.11/dist-packages (from ollama) (0.28.1)\n",
            "Requirement already satisfied: pydantic>=2.9 in /usr/local/lib/python3.11/dist-packages (from ollama) (2.11.7)\n",
            "Requirement already satisfied: anyio in /usr/local/lib/python3.11/dist-packages (from httpx>=0.27->ollama) (4.9.0)\n",
            "Requirement already satisfied: certifi in /usr/local/lib/python3.11/dist-packages (from httpx>=0.27->ollama) (2025.7.14)\n",
            "Requirement already satisfied: httpcore==1.* in /usr/local/lib/python3.11/dist-packages (from httpx>=0.27->ollama) (1.0.9)\n",
            "Requirement already satisfied: idna in /usr/local/lib/python3.11/dist-packages (from httpx>=0.27->ollama) (3.10)\n",
            "Requirement already satisfied: h11>=0.16 in /usr/local/lib/python3.11/dist-packages (from httpcore==1.*->httpx>=0.27->ollama) (0.16.0)\n",
            "Requirement already satisfied: annotated-types>=0.6.0 in /usr/local/lib/python3.11/dist-packages (from pydantic>=2.9->ollama) (0.7.0)\n",
            "Requirement already satisfied: pydantic-core==2.33.2 in /usr/local/lib/python3.11/dist-packages (from pydantic>=2.9->ollama) (2.33.2)\n",
            "Requirement already satisfied: typing-extensions>=4.12.2 in /usr/local/lib/python3.11/dist-packages (from pydantic>=2.9->ollama) (4.14.1)\n",
            "Requirement already satisfied: typing-inspection>=0.4.0 in /usr/local/lib/python3.11/dist-packages (from pydantic>=2.9->ollama) (0.4.1)\n",
            "Requirement already satisfied: sniffio>=1.1 in /usr/local/lib/python3.11/dist-packages (from anyio->httpx>=0.27->ollama) (1.3.1)\n"
          ]
        }
      ]
    },
    {
      "cell_type": "code",
      "source": [
        "import ollama\n",
        "\n",
        "response = ollama.chat(model=OLLAMA_MODEL, messages=[\n",
        "  {\n",
        "    'role': 'user',\n",
        "    'content': \"Cate degete are o mana?\",\n",
        "  },\n",
        "])\n",
        "\n",
        "print(response['message']['content'])"
      ],
      "metadata": {
        "id": "b5yAP9NdsPij",
        "outputId": "1b7a1099-47c2-4349-903a-8b70110bcbfc",
        "colab": {
          "base_uri": "https://localhost:8080/"
        }
      },
      "id": "b5yAP9NdsPij",
      "execution_count": 7,
      "outputs": [
        {
          "output_type": "stream",
          "name": "stdout",
          "text": [
            "O mână are cinci degete. Acestea sunt: degetul mare, arătătorul, mijlocul, inelarul și degetul mic.\n",
            "\n"
          ]
        }
      ]
    },
    {
      "cell_type": "code",
      "source": [
        "!ollama ps"
      ],
      "metadata": {
        "id": "Ssq1nYnysWZr",
        "outputId": "9d0851d7-161e-4a1e-91ae-5711ed393ce6",
        "colab": {
          "base_uri": "https://localhost:8080/"
        }
      },
      "id": "Ssq1nYnysWZr",
      "execution_count": 8,
      "outputs": [
        {
          "output_type": "stream",
          "name": "stdout",
          "text": [
            "NAME                                         ID              SIZE     PROCESSOR          UNTIL              \n",
            "jobautomation/OpenEuroLLM-Romanian:latest    08d230e07f63    12 GB    82%/18% CPU/GPU    4 minutes from now    \n"
          ]
        }
      ]
    },
    {
      "cell_type": "code",
      "source": [
        "!nvidia-smi"
      ],
      "metadata": {
        "id": "mdCYZFSIxMLm",
        "outputId": "5104b559-6843-4e84-9975-c8a110a3c9a3",
        "colab": {
          "base_uri": "https://localhost:8080/"
        }
      },
      "id": "mdCYZFSIxMLm",
      "execution_count": 10,
      "outputs": [
        {
          "output_type": "stream",
          "name": "stdout",
          "text": [
            "Sun Jul 27 16:44:07 2025       \n",
            "+-----------------------------------------------------------------------------------------+\n",
            "| NVIDIA-SMI 550.54.15              Driver Version: 550.54.15      CUDA Version: 12.4     |\n",
            "|-----------------------------------------+------------------------+----------------------+\n",
            "| GPU  Name                 Persistence-M | Bus-Id          Disp.A | Volatile Uncorr. ECC |\n",
            "| Fan  Temp   Perf          Pwr:Usage/Cap |           Memory-Usage | GPU-Util  Compute M. |\n",
            "|                                         |                        |               MIG M. |\n",
            "|=========================================+========================+======================|\n",
            "|   0  Tesla T4                       Off |   00000000:00:04.0 Off |                    0 |\n",
            "| N/A   60C    P0             30W /   70W |     466MiB /  15360MiB |      0%      Default |\n",
            "|                                         |                        |                  N/A |\n",
            "+-----------------------------------------+------------------------+----------------------+\n",
            "                                                                                         \n",
            "+-----------------------------------------------------------------------------------------+\n",
            "| Processes:                                                                              |\n",
            "|  GPU   GI   CI        PID   Type   Process name                              GPU Memory |\n",
            "|        ID   ID                                                               Usage      |\n",
            "|=========================================================================================|\n",
            "+-----------------------------------------------------------------------------------------+\n"
          ]
        }
      ]
    },
    {
      "cell_type": "code",
      "source": [
        "!pip install gradio -qqq"
      ],
      "metadata": {
        "id": "wuThtfj3xY52"
      },
      "id": "wuThtfj3xY52",
      "execution_count": 11,
      "outputs": []
    },
    {
      "cell_type": "code",
      "source": [
        "import gradio as gr\n",
        "\n",
        "def chat_with_ollama(message, history):\n",
        "    messages = []\n",
        "\n",
        "    # Add previous conversation history\n",
        "    for human, assistant in history:\n",
        "        messages.append({\"role\": \"user\", \"content\": human})\n",
        "        messages.append({\"role\": \"assistant\", \"content\": assistant})\n",
        "\n",
        "    # Add the current user message\n",
        "    messages.append({\"role\": \"user\", \"content\": message})\n",
        "\n",
        "    try:\n",
        "        response = ollama.chat(model=OLLAMA_MODEL, messages=messages, stream=True)\n",
        "\n",
        "        # Stream the response\n",
        "        full_response = \"\"\n",
        "        for chunk in response:\n",
        "            if 'message' in chunk and 'content' in chunk['message']:\n",
        "                content = chunk['message']['content']\n",
        "                full_response += content\n",
        "                yield full_response # Yield the accumulating response for streaming\n",
        "\n",
        "    except Exception as e:\n",
        "        return f\"Error: {e}\""
      ],
      "metadata": {
        "id": "q1Ugi70BxdT4"
      },
      "id": "q1Ugi70BxdT4",
      "execution_count": 12,
      "outputs": []
    },
    {
      "cell_type": "code",
      "source": [
        "iface = gr.ChatInterface(\n",
        "    fn=chat_with_ollama,\n",
        "\n",
        "    chatbot=gr.Chatbot(\n",
        "        show_copy_button=True,\n",
        "        resizable=True,\n",
        "    ),\n",
        "    title=\"Ollama Chat\",\n",
        "\n",
        "    examples=[\"Câte degete sunt la o mână?\"],\n",
        ")"
      ],
      "metadata": {
        "id": "BJItZT4Txkf9",
        "outputId": "64216896-2f50-4edb-9c99-86703121f942",
        "colab": {
          "base_uri": "https://localhost:8080/"
        }
      },
      "id": "BJItZT4Txkf9",
      "execution_count": 13,
      "outputs": [
        {
          "output_type": "stream",
          "name": "stderr",
          "text": [
            "/tmp/ipython-input-13-173987419.py:4: UserWarning: You have not specified a value for the `type` parameter. Defaulting to the 'tuples' format for chatbot messages, but this is deprecated and will be removed in a future version of Gradio. Please set type='messages' instead, which uses openai-style dictionaries with 'role' and 'content' keys.\n",
            "  chatbot=gr.Chatbot(\n",
            "/usr/local/lib/python3.11/dist-packages/gradio/chat_interface.py:328: UserWarning: The gr.ChatInterface was not provided with a type, so the type of the gr.Chatbot, 'tuples', will be used.\n",
            "  warnings.warn(\n"
          ]
        }
      ]
    },
    {
      "cell_type": "code",
      "source": [
        "iface.launch()"
      ],
      "metadata": {
        "id": "5YuEO1XfxonN",
        "outputId": "04737e32-f5c7-437d-b907-60e315c411b7",
        "colab": {
          "base_uri": "https://localhost:8080/",
          "height": 645
        }
      },
      "id": "5YuEO1XfxonN",
      "execution_count": 14,
      "outputs": [
        {
          "output_type": "stream",
          "name": "stdout",
          "text": [
            "It looks like you are running Gradio on a hosted Jupyter notebook, which requires `share=True`. Automatically setting `share=True` (you can turn this off by setting `share=False` in `launch()` explicitly).\n",
            "\n",
            "Colab notebook detected. To show errors in colab notebook, set debug=True in launch()\n",
            "* Running on public URL: https://d80b9cd11eb72f6b36.gradio.live\n",
            "\n",
            "This share link expires in 1 week. For free permanent hosting and GPU upgrades, run `gradio deploy` from the terminal in the working directory to deploy to Hugging Face Spaces (https://huggingface.co/spaces)\n"
          ]
        },
        {
          "output_type": "display_data",
          "data": {
            "text/plain": [
              "<IPython.core.display.HTML object>"
            ],
            "text/html": [
              "<div><iframe src=\"https://d80b9cd11eb72f6b36.gradio.live\" width=\"100%\" height=\"500\" allow=\"autoplay; camera; microphone; clipboard-read; clipboard-write;\" frameborder=\"0\" allowfullscreen></iframe></div>"
            ]
          },
          "metadata": {}
        },
        {
          "output_type": "execute_result",
          "data": {
            "text/plain": []
          },
          "metadata": {},
          "execution_count": 14
        }
      ]
    },
    {
      "cell_type": "code",
      "source": [],
      "metadata": {
        "id": "coSGrVO7xr8W"
      },
      "id": "coSGrVO7xr8W",
      "execution_count": null,
      "outputs": []
    }
  ],
  "metadata": {
    "kernelspec": {
      "display_name": "Python 3",
      "name": "python3"
    },
    "language_info": {
      "codemirror_mode": {
        "name": "ipython",
        "version": 3
      },
      "file_extension": ".py",
      "mimetype": "text/x-python",
      "name": "python",
      "nbconvert_exporter": "python",
      "pygments_lexer": "ipython3",
      "version": "3.10.16"
    },
    "colab": {
      "provenance": [],
      "gpuType": "V28"
    },
    "accelerator": "TPU"
  },
  "nbformat": 4,
  "nbformat_minor": 5
}