{
 "cells": [
  {
   "cell_type": "markdown",
   "id": "99ee88f7-7084-4e5d-a94c-a0cf462afbea",
   "metadata": {},
   "source": [
    "# ollama on collab\n",
    "\n",
    "[2 Ways to Run DeepSeek R1 on Google Colab Free Tier with Ollama ](https://dev.to/0xkoji/2-ways-to-run-ollama-on-google-colab-free-tier-3i4)"
   ]
  },
  {
   "cell_type": "code",
   "execution_count": null,
   "id": "cda57fa8-cfd8-4f6d-9c17-7098dea8bffd",
   "metadata": {},
   "outputs": [],
   "source": []
  }
 ],
 "metadata": {
  "kernelspec": {
   "display_name": "Python 3 (ipykernel)",
   "language": "python",
   "name": "python3"
  },
  "language_info": {
   "codemirror_mode": {
    "name": "ipython",
    "version": 3
   },
   "file_extension": ".py",
   "mimetype": "text/x-python",
   "name": "python",
   "nbconvert_exporter": "python",
   "pygments_lexer": "ipython3",
   "version": "3.10.16"
  }
 },
 "nbformat": 4,
 "nbformat_minor": 5
}
